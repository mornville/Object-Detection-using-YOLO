{
  "nbformat": 4,
  "nbformat_minor": 0,
  "metadata": {
    "colab": {
      "name": "SimpleRNN Sine.ipynb",
      "provenance": [],
      "authorship_tag": "ABX9TyOag8SrwpPYL51SNUjQD53Q",
      "include_colab_link": true
    },
    "kernelspec": {
      "name": "python3",
      "display_name": "Python 3"
    }
  },
  "cells": [
    {
      "cell_type": "markdown",
      "metadata": {
        "id": "view-in-github",
        "colab_type": "text"
      },
      "source": [
        "<a href=\"https://colab.research.google.com/github/mornville/RNNs/blob/master/SimpleRNN_Sine.ipynb\" target=\"_parent\"><img src=\"https://colab.research.google.com/assets/colab-badge.svg\" alt=\"Open In Colab\"/></a>"
      ]
    },
    {
      "cell_type": "code",
      "metadata": {
        "id": "dBb8LXYFu6Xh",
        "colab_type": "code",
        "colab": {
          "base_uri": "https://localhost:8080/",
          "height": 34
        },
        "outputId": "1406eb3f-83e8-4ac5-ffff-40d6461efe7c"
      },
      "source": [
        "import tensorflow as tf\n",
        "print(tf.__version__)"
      ],
      "execution_count": 25,
      "outputs": [
        {
          "output_type": "stream",
          "text": [
            "2.2.0\n"
          ],
          "name": "stdout"
        }
      ]
    },
    {
      "cell_type": "code",
      "metadata": {
        "id": "o0x3jfQevCow",
        "colab_type": "code",
        "colab": {}
      },
      "source": [
        "import pandas as pd\n",
        "import numpy as np\n",
        "import matplotlib.pyplot as plot"
      ],
      "execution_count": 0,
      "outputs": []
    },
    {
      "cell_type": "code",
      "metadata": {
        "id": "hBtRHMN4vVdc",
        "colab_type": "code",
        "colab": {}
      },
      "source": [
        "from tensorflow.keras.models import Model\n",
        "from tensorflow.keras.optimizers import SGD, Adam\n",
        "from tensorflow.keras.layers import LSTM, SimpleRNN, Input, Dense\n"
      ],
      "execution_count": 0,
      "outputs": []
    },
    {
      "cell_type": "code",
      "metadata": {
        "id": "TSTY0Dwlviuo",
        "colab_type": "code",
        "colab": {}
      },
      "source": [
        "data = pd.read_csv('sample_data/GOOG.csv')"
      ],
      "execution_count": 0,
      "outputs": []
    },
    {
      "cell_type": "code",
      "metadata": {
        "id": "yxQJRlgkvv9m",
        "colab_type": "code",
        "colab": {
          "base_uri": "https://localhost:8080/",
          "height": 204
        },
        "outputId": "7dd0b293-c335-4917-be9a-a47fad870efa"
      },
      "source": [
        "data.head()"
      ],
      "execution_count": 22,
      "outputs": [
        {
          "output_type": "execute_result",
          "data": {
            "text/html": [
              "<div>\n",
              "<style scoped>\n",
              "    .dataframe tbody tr th:only-of-type {\n",
              "        vertical-align: middle;\n",
              "    }\n",
              "\n",
              "    .dataframe tbody tr th {\n",
              "        vertical-align: top;\n",
              "    }\n",
              "\n",
              "    .dataframe thead th {\n",
              "        text-align: right;\n",
              "    }\n",
              "</style>\n",
              "<table border=\"1\" class=\"dataframe\">\n",
              "  <thead>\n",
              "    <tr style=\"text-align: right;\">\n",
              "      <th></th>\n",
              "      <th>Date</th>\n",
              "      <th>Open</th>\n",
              "      <th>High</th>\n",
              "      <th>Low</th>\n",
              "      <th>Close</th>\n",
              "      <th>Adj Close</th>\n",
              "      <th>Volume</th>\n",
              "    </tr>\n",
              "  </thead>\n",
              "  <tbody>\n",
              "    <tr>\n",
              "      <th>0</th>\n",
              "      <td>2004-08-19</td>\n",
              "      <td>49.813286</td>\n",
              "      <td>51.835709</td>\n",
              "      <td>47.800831</td>\n",
              "      <td>49.982655</td>\n",
              "      <td>49.982655</td>\n",
              "      <td>44871300</td>\n",
              "    </tr>\n",
              "    <tr>\n",
              "      <th>1</th>\n",
              "      <td>2004-08-20</td>\n",
              "      <td>50.316402</td>\n",
              "      <td>54.336334</td>\n",
              "      <td>50.062355</td>\n",
              "      <td>53.952770</td>\n",
              "      <td>53.952770</td>\n",
              "      <td>22942800</td>\n",
              "    </tr>\n",
              "    <tr>\n",
              "      <th>2</th>\n",
              "      <td>2004-08-23</td>\n",
              "      <td>55.168217</td>\n",
              "      <td>56.528118</td>\n",
              "      <td>54.321388</td>\n",
              "      <td>54.495735</td>\n",
              "      <td>54.495735</td>\n",
              "      <td>18342800</td>\n",
              "    </tr>\n",
              "    <tr>\n",
              "      <th>3</th>\n",
              "      <td>2004-08-24</td>\n",
              "      <td>55.412300</td>\n",
              "      <td>55.591629</td>\n",
              "      <td>51.591621</td>\n",
              "      <td>52.239193</td>\n",
              "      <td>52.239193</td>\n",
              "      <td>15319700</td>\n",
              "    </tr>\n",
              "    <tr>\n",
              "      <th>4</th>\n",
              "      <td>2004-08-25</td>\n",
              "      <td>52.284027</td>\n",
              "      <td>53.798351</td>\n",
              "      <td>51.746044</td>\n",
              "      <td>52.802086</td>\n",
              "      <td>52.802086</td>\n",
              "      <td>9232100</td>\n",
              "    </tr>\n",
              "  </tbody>\n",
              "</table>\n",
              "</div>"
            ],
            "text/plain": [
              "         Date       Open       High        Low      Close  Adj Close    Volume\n",
              "0  2004-08-19  49.813286  51.835709  47.800831  49.982655  49.982655  44871300\n",
              "1  2004-08-20  50.316402  54.336334  50.062355  53.952770  53.952770  22942800\n",
              "2  2004-08-23  55.168217  56.528118  54.321388  54.495735  54.495735  18342800\n",
              "3  2004-08-24  55.412300  55.591629  51.591621  52.239193  52.239193  15319700\n",
              "4  2004-08-25  52.284027  53.798351  51.746044  52.802086  52.802086   9232100"
            ]
          },
          "metadata": {
            "tags": []
          },
          "execution_count": 22
        }
      ]
    },
    {
      "cell_type": "code",
      "metadata": {
        "id": "R6Iy0NaGwMHs",
        "colab_type": "code",
        "colab": {}
      },
      "source": [
        "#dummy data\n",
        "series = np.sin(0.1*np.arange(200)) + np.random.randn(200)*.1"
      ],
      "execution_count": 0,
      "outputs": []
    },
    {
      "cell_type": "code",
      "metadata": {
        "id": "zOyLnBeBxhW9",
        "colab_type": "code",
        "colab": {
          "base_uri": "https://localhost:8080/",
          "height": 265
        },
        "outputId": "dc4566a2-ce03-43a6-e5d4-91fb40e50382"
      },
      "source": [
        "plot.plot(series)\n",
        "plot.show()"
      ],
      "execution_count": 35,
      "outputs": [
        {
          "output_type": "display_data",
          "data": {
            "image/png": "[encoded data removed]",
            "text/plain": [
              "<Figure size 432x288 with 1 Axes>"
            ]
          },
          "metadata": {
            "tags": [],
            "needs_background": "light"
          }
        }
      ]
    },
    {
      "cell_type": "code",
      "metadata": {
        "id": "eNGW7fNFxuwN",
        "colab_type": "code",
        "colab": {
          "base_uri": "https://localhost:8080/",
          "height": 1000
        },
        "outputId": "e7ea0be1-4d44-4e6d-e832-7e613d2f3451"
      },
      "source": [
        "T = 10\n",
        "X = []\n",
        "Y = []\n",
        "D = 1\n",
        "for t in range(len(series)-T):\n",
        "  x = series[t:t+T] #for prediction train values\n",
        "  X.append(x)\n",
        "  print('pass - ', t)\n",
        "  # print(x)\n",
        "  y = series[t+T] #prediction\n",
        "  # print(y)\n",
        "  Y.append(y)"
      ],
      "execution_count": 52,
      "outputs": [
        {
          "output_type": "stream",
          "text": [
            "pass -  0\n",
            "pass -  1\n",
            "pass -  2\n",
            "pass -  3\n",
            "pass -  4\n",
            "pass -  5\n",
            "pass -  6\n",
            "pass -  7\n",
            "pass -  8\n",
            "pass -  9\n",
            "pass -  10\n",
            "pass -  11\n",
            "pass -  12\n",
            "pass -  13\n",
            "pass -  14\n",
            "pass -  15\n",
            "pass -  16\n",
            "pass -  17\n",
            "pass -  18\n",
            "pass -  19\n",
            "pass -  20\n",
            "pass -  21\n",
            "pass -  22\n",
            "pass -  23\n",
            "pass -  24\n",
            "pass -  25\n",
            "pass -  26\n",
            "pass -  27\n",
            "pass -  28\n",
            "pass -  29\n",
            "pass -  30\n",
            "pass -  31\n",
            "pass -  32\n",
            "pass -  33\n",
            "pass -  34\n",
            "pass -  35\n",
            "pass -  36\n",
            "pass -  37\n",
            "pass -  38\n",
            "pass -  39\n",
            "pass -  40\n",
            "pass -  41\n",
            "pass -  42\n",
            "pass -  43\n",
            "pass -  44\n",
            "pass -  45\n",
            "pass -  46\n",
            "pass -  47\n",
            "pass -  48\n",
            "pass -  49\n",
            "pass -  50\n",
            "pass -  51\n",
            "pass -  52\n",
            "pass -  53\n",
            "pass -  54\n",
            "pass -  55\n",
            "pass -  56\n",
            "pass -  57\n",
            "pass -  58\n",
            "pass -  59\n",
            "pass -  60\n",
            "pass -  61\n",
            "pass -  62\n",
            "pass -  63\n",
            "pass -  64\n",
            "pass -  65\n",
            "pass -  66\n",
            "pass -  67\n",
            "pass -  68\n",
            "pass -  69\n",
            "pass -  70\n",
            "pass -  71\n",
            "pass -  72\n",
            "pass -  73\n",
            "pass -  74\n",
            "pass -  75\n",
            "pass -  76\n",
            "pass -  77\n",
            "pass -  78\n",
            "pass -  79\n",
            "pass -  80\n",
            "pass -  81\n",
            "pass -  82\n",
            "pass -  83\n",
            "pass -  84\n",
            "pass -  85\n",
            "pass -  86\n",
            "pass -  87\n",
            "pass -  88\n",
            "pass -  89\n",
            "pass -  90\n",
            "pass -  91\n",
            "pass -  92\n",
            "pass -  93\n",
            "pass -  94\n",
            "pass -  95\n",
            "pass -  96\n",
            "pass -  97\n",
            "pass -  98\n",
            "pass -  99\n",
            "pass -  100\n",
            "pass -  101\n",
            "pass -  102\n",
            "pass -  103\n",
            "pass -  104\n",
            "pass -  105\n",
            "pass -  106\n",
            "pass -  107\n",
            "pass -  108\n",
            "pass -  109\n",
            "pass -  110\n",
            "pass -  111\n",
            "pass -  112\n",
            "pass -  113\n",
            "pass -  114\n",
            "pass -  115\n",
            "pass -  116\n",
            "pass -  117\n",
            "pass -  118\n",
            "pass -  119\n",
            "pass -  120\n",
            "pass -  121\n",
            "pass -  122\n",
            "pass -  123\n",
            "pass -  124\n",
            "pass -  125\n",
            "pass -  126\n",
            "pass -  127\n",
            "pass -  128\n",
            "pass -  129\n",
            "pass -  130\n",
            "pass -  131\n",
            "pass -  132\n",
            "pass -  133\n",
            "pass -  134\n",
            "pass -  135\n",
            "pass -  136\n",
            "pass -  137\n",
            "pass -  138\n",
            "pass -  139\n",
            "pass -  140\n",
            "pass -  141\n",
            "pass -  142\n",
            "pass -  143\n",
            "pass -  144\n",
            "pass -  145\n",
            "pass -  146\n",
            "pass -  147\n",
            "pass -  148\n",
            "pass -  149\n",
            "pass -  150\n",
            "pass -  151\n",
            "pass -  152\n",
            "pass -  153\n",
            "pass -  154\n",
            "pass -  155\n",
            "pass -  156\n",
            "pass -  157\n",
            "pass -  158\n",
            "pass -  159\n",
            "pass -  160\n",
            "pass -  161\n",
            "pass -  162\n",
            "pass -  163\n",
            "pass -  164\n",
            "pass -  165\n",
            "pass -  166\n",
            "pass -  167\n",
            "pass -  168\n",
            "pass -  169\n",
            "pass -  170\n",
            "pass -  171\n",
            "pass -  172\n",
            "pass -  173\n",
            "pass -  174\n",
            "pass -  175\n",
            "pass -  176\n",
            "pass -  177\n",
            "pass -  178\n",
            "pass -  179\n",
            "pass -  180\n",
            "pass -  181\n",
            "pass -  182\n",
            "pass -  183\n",
            "pass -  184\n",
            "pass -  185\n",
            "pass -  186\n",
            "pass -  187\n",
            "pass -  188\n",
            "pass -  189\n"
          ],
          "name": "stdout"
        }
      ]
    },
    {
      "cell_type": "code",
      "metadata": {
        "id": "SCF-txUbyR8L",
        "colab_type": "code",
        "colab": {
          "base_uri": "https://localhost:8080/",
          "height": 34
        },
        "outputId": "29bb65de-6a99-4e49-ee94-afd91ecfb3a6"
      },
      "source": [
        "X, Y = np.array(X).reshape(-1,T,1), np.array(Y)\n",
        "N = len(X)\n",
        "# print(Y)\n",
        "X.shape, Y.shape\n"
      ],
      "execution_count": 64,
      "outputs": [
        {
          "output_type": "execute_result",
          "data": {
            "text/plain": [
              "((190, 10, 1), (190,))"
            ]
          },
          "metadata": {
            "tags": []
          },
          "execution_count": 64
        }
      ]
    },
    {
      "cell_type": "code",
      "metadata": {
        "id": "quKgm3b9zN-V",
        "colab_type": "code",
        "colab": {
          "base_uri": "https://localhost:8080/",
          "height": 1000
        },
        "outputId": "b788e995-b242-4ea1-8cc1-a2143d8607f0"
      },
      "source": [
        "## RNN model\n",
        "i = Input(shape = (T, 1))\n",
        "x = SimpleRNN(5, activation=None)(i)\n",
        "x = Dense(1)(x)\n",
        "model = Model(i,x)\n",
        "model.compile(loss='mse', optimizer = Adam(lr=0.1))\n",
        "\n",
        "##train\n",
        "r = model.fit(X[:-N//2], Y[:-N//2], epochs=80, validation_data=(X[-N//2:], Y[-N//2:]))"
      ],
      "execution_count": 81,
      "outputs": [
        {
          "output_type": "stream",
          "text": [
            "Epoch 1/80\n",
            "3/3 [==============================] - 0s 49ms/step - loss: 3.2600 - val_loss: 0.3042\n",
            "Epoch 2/80\n",
            "3/3 [==============================] - 0s 13ms/step - loss: 0.2181 - val_loss: 0.1843\n",
            "Epoch 3/80\n",
            "3/3 [==============================] - 0s 12ms/step - loss: 0.2028 - val_loss: 0.2070\n",
            "Epoch 4/80\n",
            "3/3 [==============================] - 0s 12ms/step - loss: 0.1382 - val_loss: 0.1222\n",
            "Epoch 5/80\n",
            "3/3 [==============================] - 0s 12ms/step - loss: 0.1127 - val_loss: 0.1371\n",
            "Epoch 6/80\n",
            "3/3 [==============================] - 0s 12ms/step - loss: 0.0968 - val_loss: 0.0588\n",
            "Epoch 7/80\n",
            "3/3 [==============================] - 0s 13ms/step - loss: 0.0459 - val_loss: 0.0378\n",
            "Epoch 8/80\n",
            "3/3 [==============================] - 0s 12ms/step - loss: 0.0349 - val_loss: 0.0484\n",
            "Epoch 9/80\n",
            "3/3 [==============================] - 0s 13ms/step - loss: 0.0374 - val_loss: 0.0378\n",
            "Epoch 10/80\n",
            "3/3 [==============================] - 0s 13ms/step - loss: 0.0405 - val_loss: 0.0437\n",
            "Epoch 11/80\n",
            "3/3 [==============================] - 0s 15ms/step - loss: 0.0452 - val_loss: 0.0606\n",
            "Epoch 12/80\n",
            "3/3 [==============================] - 0s 14ms/step - loss: 0.0452 - val_loss: 0.0365\n",
            "Epoch 13/80\n",
            "3/3 [==============================] - 0s 14ms/step - loss: 0.0318 - val_loss: 0.0328\n",
            "Epoch 14/80\n",
            "3/3 [==============================] - 0s 12ms/step - loss: 0.0296 - val_loss: 0.0286\n",
            "Epoch 15/80\n",
            "3/3 [==============================] - 0s 13ms/step - loss: 0.0244 - val_loss: 0.0302\n",
            "Epoch 16/80\n",
            "3/3 [==============================] - 0s 12ms/step - loss: 0.0268 - val_loss: 0.0280\n",
            "Epoch 17/80\n",
            "3/3 [==============================] - 0s 13ms/step - loss: 0.0255 - val_loss: 0.0269\n",
            "Epoch 18/80\n",
            "3/3 [==============================] - 0s 13ms/step - loss: 0.0245 - val_loss: 0.0281\n",
            "Epoch 19/80\n",
            "3/3 [==============================] - 0s 13ms/step - loss: 0.0239 - val_loss: 0.0266\n",
            "Epoch 20/80\n",
            "3/3 [==============================] - 0s 14ms/step - loss: 0.0248 - val_loss: 0.0260\n",
            "Epoch 21/80\n",
            "3/3 [==============================] - 0s 13ms/step - loss: 0.0226 - val_loss: 0.0274\n",
            "Epoch 22/80\n",
            "3/3 [==============================] - 0s 13ms/step - loss: 0.0238 - val_loss: 0.0254\n",
            "Epoch 23/80\n",
            "3/3 [==============================] - 0s 12ms/step - loss: 0.0222 - val_loss: 0.0253\n",
            "Epoch 24/80\n",
            "3/3 [==============================] - 0s 12ms/step - loss: 0.0223 - val_loss: 0.0257\n",
            "Epoch 25/80\n",
            "3/3 [==============================] - 0s 12ms/step - loss: 0.0222 - val_loss: 0.0248\n",
            "Epoch 26/80\n",
            "3/3 [==============================] - 0s 12ms/step - loss: 0.0230 - val_loss: 0.0246\n",
            "Epoch 27/80\n",
            "3/3 [==============================] - 0s 12ms/step - loss: 0.0207 - val_loss: 0.0262\n",
            "Epoch 28/80\n",
            "3/3 [==============================] - 0s 12ms/step - loss: 0.0221 - val_loss: 0.0246\n",
            "Epoch 29/80\n",
            "3/3 [==============================] - 0s 12ms/step - loss: 0.0210 - val_loss: 0.0242\n",
            "Epoch 30/80\n",
            "3/3 [==============================] - 0s 14ms/step - loss: 0.0207 - val_loss: 0.0245\n",
            "Epoch 31/80\n",
            "3/3 [==============================] - 0s 14ms/step - loss: 0.0208 - val_loss: 0.0239\n",
            "Epoch 32/80\n",
            "3/3 [==============================] - 0s 12ms/step - loss: 0.0204 - val_loss: 0.0238\n",
            "Epoch 33/80\n",
            "3/3 [==============================] - 0s 13ms/step - loss: 0.0213 - val_loss: 0.0243\n",
            "Epoch 34/80\n",
            "3/3 [==============================] - 0s 14ms/step - loss: 0.0204 - val_loss: 0.0236\n",
            "Epoch 35/80\n",
            "3/3 [==============================] - 0s 12ms/step - loss: 0.0211 - val_loss: 0.0235\n",
            "Epoch 36/80\n",
            "3/3 [==============================] - 0s 13ms/step - loss: 0.0234 - val_loss: 0.0248\n",
            "Epoch 37/80\n",
            "3/3 [==============================] - 0s 12ms/step - loss: 0.0222 - val_loss: 0.0252\n",
            "Epoch 38/80\n",
            "3/3 [==============================] - 0s 13ms/step - loss: 0.0229 - val_loss: 0.0263\n",
            "Epoch 39/80\n",
            "3/3 [==============================] - 0s 16ms/step - loss: 0.0209 - val_loss: 0.0233\n",
            "Epoch 40/80\n",
            "3/3 [==============================] - 0s 13ms/step - loss: 0.0212 - val_loss: 0.0232\n",
            "Epoch 41/80\n",
            "3/3 [==============================] - 0s 13ms/step - loss: 0.0210 - val_loss: 0.0235\n",
            "Epoch 42/80\n",
            "3/3 [==============================] - 0s 14ms/step - loss: 0.0197 - val_loss: 0.0231\n",
            "Epoch 43/80\n",
            "3/3 [==============================] - 0s 12ms/step - loss: 0.0203 - val_loss: 0.0230\n",
            "Epoch 44/80\n",
            "3/3 [==============================] - 0s 12ms/step - loss: 0.0221 - val_loss: 0.0236\n",
            "Epoch 45/80\n",
            "3/3 [==============================] - 0s 12ms/step - loss: 0.0220 - val_loss: 0.0233\n",
            "Epoch 46/80\n",
            "3/3 [==============================] - 0s 14ms/step - loss: 0.0203 - val_loss: 0.0236\n",
            "Epoch 47/80\n",
            "3/3 [==============================] - 0s 12ms/step - loss: 0.0201 - val_loss: 0.0233\n",
            "Epoch 48/80\n",
            "3/3 [==============================] - 0s 13ms/step - loss: 0.0206 - val_loss: 0.0228\n",
            "Epoch 49/80\n",
            "3/3 [==============================] - 0s 15ms/step - loss: 0.0199 - val_loss: 0.0223\n",
            "Epoch 50/80\n",
            "3/3 [==============================] - 0s 13ms/step - loss: 0.0202 - val_loss: 0.0226\n",
            "Epoch 51/80\n",
            "3/3 [==============================] - 0s 12ms/step - loss: 0.0207 - val_loss: 0.0222\n",
            "Epoch 52/80\n",
            "3/3 [==============================] - 0s 13ms/step - loss: 0.0216 - val_loss: 0.0235\n",
            "Epoch 53/80\n",
            "3/3 [==============================] - 0s 12ms/step - loss: 0.0238 - val_loss: 0.0228\n",
            "Epoch 54/80\n",
            "3/3 [==============================] - 0s 13ms/step - loss: 0.0234 - val_loss: 0.0235\n",
            "Epoch 55/80\n",
            "3/3 [==============================] - 0s 13ms/step - loss: 0.0231 - val_loss: 0.0231\n",
            "Epoch 56/80\n",
            "3/3 [==============================] - 0s 12ms/step - loss: 0.0221 - val_loss: 0.0245\n",
            "Epoch 57/80\n",
            "3/3 [==============================] - 0s 12ms/step - loss: 0.0206 - val_loss: 0.0226\n",
            "Epoch 58/80\n",
            "3/3 [==============================] - 0s 16ms/step - loss: 0.0208 - val_loss: 0.0220\n",
            "Epoch 59/80\n",
            "3/3 [==============================] - 0s 13ms/step - loss: 0.0211 - val_loss: 0.0220\n",
            "Epoch 60/80\n",
            "3/3 [==============================] - 0s 13ms/step - loss: 0.0202 - val_loss: 0.0224\n",
            "Epoch 61/80\n",
            "3/3 [==============================] - 0s 12ms/step - loss: 0.0193 - val_loss: 0.0226\n",
            "Epoch 62/80\n",
            "3/3 [==============================] - 0s 12ms/step - loss: 0.0210 - val_loss: 0.0218\n",
            "Epoch 63/80\n",
            "3/3 [==============================] - 0s 12ms/step - loss: 0.0198 - val_loss: 0.0216\n",
            "Epoch 64/80\n",
            "3/3 [==============================] - 0s 13ms/step - loss: 0.0196 - val_loss: 0.0222\n",
            "Epoch 65/80\n",
            "3/3 [==============================] - 0s 14ms/step - loss: 0.0190 - val_loss: 0.0216\n",
            "Epoch 66/80\n",
            "3/3 [==============================] - 0s 12ms/step - loss: 0.0192 - val_loss: 0.0216\n",
            "Epoch 67/80\n",
            "3/3 [==============================] - 0s 12ms/step - loss: 0.0194 - val_loss: 0.0213\n",
            "Epoch 68/80\n",
            "3/3 [==============================] - 0s 15ms/step - loss: 0.0186 - val_loss: 0.0216\n",
            "Epoch 69/80\n",
            "3/3 [==============================] - 0s 14ms/step - loss: 0.0196 - val_loss: 0.0216\n",
            "Epoch 70/80\n",
            "3/3 [==============================] - 0s 12ms/step - loss: 0.0200 - val_loss: 0.0217\n",
            "Epoch 71/80\n",
            "3/3 [==============================] - 0s 12ms/step - loss: 0.0196 - val_loss: 0.0212\n",
            "Epoch 72/80\n",
            "3/3 [==============================] - 0s 13ms/step - loss: 0.0188 - val_loss: 0.0228\n",
            "Epoch 73/80\n",
            "3/3 [==============================] - 0s 12ms/step - loss: 0.0189 - val_loss: 0.0211\n",
            "Epoch 74/80\n",
            "3/3 [==============================] - 0s 14ms/step - loss: 0.0196 - val_loss: 0.0209\n",
            "Epoch 75/80\n",
            "3/3 [==============================] - 0s 14ms/step - loss: 0.0204 - val_loss: 0.0210\n",
            "Epoch 76/80\n",
            "3/3 [==============================] - 0s 13ms/step - loss: 0.0189 - val_loss: 0.0212\n",
            "Epoch 77/80\n",
            "3/3 [==============================] - 0s 15ms/step - loss: 0.0191 - val_loss: 0.0219\n",
            "Epoch 78/80\n",
            "3/3 [==============================] - 0s 12ms/step - loss: 0.0189 - val_loss: 0.0208\n",
            "Epoch 79/80\n",
            "3/3 [==============================] - 0s 12ms/step - loss: 0.0193 - val_loss: 0.0206\n",
            "Epoch 80/80\n",
            "3/3 [==============================] - 0s 12ms/step - loss: 0.0222 - val_loss: 0.0207\n"
          ],
          "name": "stdout"
        }
      ]
    },
    {
      "cell_type": "code",
      "metadata": {
        "id": "nqWmEsoT1Nvp",
        "colab_type": "code",
        "colab": {
          "base_uri": "https://localhost:8080/",
          "height": 282
        },
        "outputId": "c8ed56ff-830b-4e5a-c00d-72137e77f86c"
      },
      "source": [
        "plot.plot(r.history['loss'], label='loss')\n",
        "plot.plot(r.history['val_loss'], label = 'val_loss')\n",
        "plot.legend()"
      ],
      "execution_count": 82,
      "outputs": [
        {
          "output_type": "execute_result",
          "data": {
            "text/plain": [
              "<matplotlib.legend.Legend at 0x7fdfccc05cc0>"
            ]
          },
          "metadata": {
            "tags": []
          },
          "execution_count": 82
        },
        {
          "output_type": "display_data",
          "data": {
            "image/png": "[encoded data removed]",
            "text/plain": [
              "<Figure size 432x288 with 1 Axes>"
            ]
          },
          "metadata": {
            "tags": [],
            "needs_background": "light"
          }
        }
      ]
    },
    {
      "cell_type": "code",
      "metadata": {
        "id": "6XAWa8lu21we",
        "colab_type": "code",
        "colab": {}
      },
      "source": [
        "validation_target = Y[-N//2:]\n",
        "validation_predictions = []\n",
        "\n",
        "#last train input\n",
        "last_x = X[-N//2]\n",
        "\n",
        "while len(validation_predictions)<len(validation_target):\n",
        "  p = model.predict(last_x.reshape(1,-1,1))[0,0] #1x1Array\n",
        "  #update prediction\n",
        "  validation_predictions.append(p)\n",
        "  #making new input\n",
        "  last_x = np.roll(last_x, -1)\n",
        "  last_x[-1] = p"
      ],
      "execution_count": 0,
      "outputs": []
    },
    {
      "cell_type": "code",
      "metadata": {
        "id": "FWzX6srh3oaK",
        "colab_type": "code",
        "colab": {
          "base_uri": "https://localhost:8080/",
          "height": 282
        },
        "outputId": "af428f5b-ff6d-42f3-a09c-1fab3b554041"
      },
      "source": [
        "plot.plot(validation_target, label='val_real forcasts')\n",
        "plot.plot(validation_predictions, label='val_pred')"
      ],
      "execution_count": 84,
      "outputs": [
        {
          "output_type": "execute_result",
          "data": {
            "text/plain": [
              "[<matplotlib.lines.Line2D at 0x7fdfc63dfe80>]"
            ]
          },
          "metadata": {
            "tags": []
          },
          "execution_count": 84
        },
        {
          "output_type": "display_data",
          "data": {
            "image/png": "[encoded data removed]",
            "text/plain": [
              "<Figure size 432x288 with 1 Axes>"
            ]
          },
          "metadata": {
            "tags": [],
            "needs_background": "light"
          }
        }
      ]
    },
    {
      "cell_type": "code",
      "metadata": {
        "id": "eLFc0Bmk38yB",
        "colab_type": "code",
        "colab": {}
      },
      "source": [
        ""
      ],
      "execution_count": 0,
      "outputs": []
    }
  ]
}